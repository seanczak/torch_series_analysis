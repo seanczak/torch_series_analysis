{
 "cells": [
  {
   "cell_type": "code",
   "execution_count": 3,
   "metadata": {},
   "outputs": [
    {
     "name": "stdout",
     "output_type": "stream",
     "text": [
      "The autoreload extension is already loaded. To reload it, use:\n",
      "  %reload_ext autoreload\n"
     ]
    }
   ],
   "source": [
    "%load_ext autoreload\n",
    "%autoreload 2\n",
    "%matplotlib inline"
   ]
  },
  {
   "cell_type": "markdown",
   "metadata": {},
   "source": [
    "<h1> Adding a second layer </h1>\n"
   ]
  },
  {
   "cell_type": "code",
   "execution_count": 4,
   "metadata": {},
   "outputs": [],
   "source": [
    "import torch\n",
    "import torch.nn as nn\n",
    "import torch.nn.functional as F\n",
    "import numpy as np\n",
    "import pandas as pd\n",
    "import matplotlib.pyplot as plt"
   ]
  },
  {
   "cell_type": "markdown",
   "metadata": {},
   "source": [
    "# Model Class\n",
    "\n",
    "Ok this looks good enough to move forward with, going to copy these over to torch lightning"
   ]
  },
  {
   "cell_type": "code",
   "execution_count": 30,
   "metadata": {},
   "outputs": [],
   "source": [
    "class Causal_1dConv(torch.nn.Module):\n",
    "    \"\"\"\n",
    "    A convolution with the option to be causal and use xavier initialization\n",
    "    \"\"\"\n",
    "    def __init__(self, in_channels, out_channels, kernel_size=1, stride=1,\n",
    "                 dilation=1, bias=True, w_init_gain='linear', verbose = False,\n",
    "                 is_causal=True):\n",
    "        super(Causal_1dConv, self).__init__()\n",
    "        self.is_causal = is_causal\n",
    "        self.kernel_size = kernel_size\n",
    "        self.dilation = dilation\n",
    "        self.verbose = verbose\n",
    "\n",
    "        self.conv = torch.nn.Conv1d(in_channels, out_channels,\n",
    "                                    kernel_size=kernel_size, stride=stride,\n",
    "                                    dilation=dilation, bias=bias)\n",
    "\n",
    "#         torch.nn.init.xavier_uniform(\n",
    "#             self.conv.weight, gain=torch.nn.init.calculate_gain(w_init_gain))\n",
    "\n",
    "    def forward(self, signal):\n",
    "#         print(f'INPUT:\\n{signal}\\n{signal.shape}')\n",
    "        padding = (int((self.kernel_size - 1) * (self.dilation)), 0)\n",
    "        signal = torch.nn.functional.pad(signal, padding)\n",
    "        if self.verbose: print(f'PADDED INPUT:\\n{signal}\\n{signal.shape}')\n",
    "        return self.conv(signal)"
   ]
  },
  {
   "cell_type": "code",
   "execution_count": 31,
   "metadata": {},
   "outputs": [],
   "source": [
    "class Conv1dAutoencoder(torch.nn.Module):\n",
    "    \"\"\"\n",
    "    A causal implementation of Conv1d\n",
    "    \"\"\"\n",
    "    def __init__(self, in_channels, out_channels, out_timesteps = 1,\n",
    "                 kernel_size=1, stride=1, dilation=1, num_mid_channels = 10,\n",
    "                 bias=True, c = 1, verbose = False):\n",
    "        super(Conv1dAutoencoder, self).__init__()\n",
    "        \n",
    "        self.verbose = verbose\n",
    "        \n",
    "        self.kernel_size = kernel_size\n",
    "        self.dilation = dilation\n",
    "        self.stride = stride\n",
    "        \n",
    "        self.in_channels = in_channels\n",
    "        self.out_channels = out_channels\n",
    "        self.h = out_timesteps # number of steps to guess\n",
    "        self.c = c # how far in future to start\n",
    "        \n",
    "        \n",
    "\n",
    "        self.layer1 = Causal_1dConv(in_channels = in_channels, \n",
    "                                        out_channels = num_mid_channels,\n",
    "                                        kernel_size=kernel_size, \n",
    "                                        stride=stride,\n",
    "                                        dilation=dilation, \n",
    "                                        bias=bias, verbose = verbose)\n",
    "        \n",
    "        self.layer2 = Causal_1dConv(in_channels= num_mid_channels, \n",
    "                                        out_channels = out_channels*self.h,\n",
    "                                        kernel_size=kernel_size, \n",
    "                                        stride=stride,\n",
    "                                        dilation=dilation, \n",
    "                                        bias=bias, verbose = verbose)\n",
    "        \n",
    "        \n",
    "\n",
    "    def forward(self, signal,time=None):\n",
    "        # get sizes\n",
    "        batch_size = signal.shape[0]\n",
    "        num_chans  = signal.shape[1]\n",
    "        seq_len    = signal.shape[2]\n",
    "        \n",
    "        # prep inputs\n",
    "        X = self.shape_inputs(signal)\n",
    "#         if self.verbose: print(f'X:\\n{X}\\n{X.shape}\\n')\n",
    "        \n",
    "        # prep targets\n",
    "        targets = self.shape_targets(signal)\n",
    "        if self.verbose: print(f'TARGETS:\\n{targets}\\n{targets.shape}\\n')\n",
    "        \n",
    "        # make preds and reshape them to fit targets\n",
    "        print('LAYER 1')\n",
    "        preds1 = self.layer1(X) # first layer\n",
    "        if self.verbose: print(f'PREDS1:\\n{preds1}\\n{preds1.shape}\\n')\n",
    "        acts1 = F.relu(preds1) # with activation\n",
    "        if self.verbose: print(f'ACTS1:\\n{acts1}\\n{acts1.shape}\\n')\n",
    "        print('LAYER 2')\n",
    "        preds2 = self.layer2(acts1)     # second layer is linear\n",
    "        if self.verbose: print(f'PREDS2:\\n{preds2}\\n{preds2.shape}\\n')\n",
    "        preds = self.reshape_preds(preds2) # reshape   \n",
    "        if self.verbose: print(f'PREDS:\\n{preds}\\n{preds.shape}\\n')\n",
    "        \n",
    "        # create time if necessary and reshape to fit targets\n",
    "        time = torch.arange(seq_len) if time is None else time\n",
    "        out_time = self.shape_out_time(time)\n",
    "        if self.verbose: print(f'OUT_TIME:\\n{out_time}\\n{out_time.shape}\\n')\n",
    "\n",
    "        return X, preds, targets, out_time\n",
    "    \n",
    "    def shape_inputs(self,signal):\n",
    "        # remove timesteps that we won't have predictions for\n",
    "        truncate = self.c + self.h - 1\n",
    "        X = signal[:,:,:-truncate]\n",
    "        return X  \n",
    "    \n",
    "    def reshape_preds(self,preds):\n",
    "        batch_size = preds.shape[0]\n",
    "        chans      = self.out_channels\n",
    "        output_depth = self.h\n",
    "        if self.h > 1:\n",
    "            preds = preds.view(batch_size,chans,output_depth,-1) # leave seq_len to be inferred\n",
    "            preds = preds.permute((0,1,3,2))\n",
    "        return preds\n",
    "    \n",
    "    def shape_targets(self,signal):\n",
    "        targets = signal[:,:,self.c:] # all but the first\n",
    "        if self.h > 1:\n",
    "            targets = torch_running_view(targets,self.h) # reshape to have a 4th dimension\n",
    "        targets = targets[:,:,::self.stride] # sample according to striding on seq_len dim\n",
    "        return targets\n",
    "    \n",
    "    def shape_out_time(self,time):\n",
    "        roll_window_len = self.h\n",
    "        truncate = self.c\n",
    "        out_time = time[truncate:]\n",
    "        if self.h > 1:\n",
    "            out_time = torch_running_view(out_time,roll_window_len)\n",
    "        return out_time[::self.stride]\n",
    "            "
   ]
  },
  {
   "cell_type": "code",
   "execution_count": 8,
   "metadata": {},
   "outputs": [],
   "source": [
    "def torch_running_view(tensor,window,axis=-1):\n",
    "    shape = list(tensor.shape)\n",
    "    shape[axis] -= (window -1)\n",
    "    assert(shape[axis]>0)\n",
    "    return torch.as_strided(tensor, shape + [window], \n",
    "                            tensor.stride() + (tensor.stride()[axis],))"
   ]
  },
  {
   "cell_type": "markdown",
   "metadata": {},
   "source": [
    "# data examples"
   ]
  },
  {
   "cell_type": "markdown",
   "metadata": {
    "heading_collapsed": true
   },
   "source": [
    "## examples 1 and 2"
   ]
  },
  {
   "cell_type": "code",
   "execution_count": 4,
   "metadata": {
    "hidden": true
   },
   "outputs": [
    {
     "name": "stdout",
     "output_type": "stream",
     "text": [
      "1st Example:\n",
      "tensor([[[ 0., 10., 20., 30., 40., 50.],\n",
      "         [ 5., 15., 25., 35., 45., 55.]]])\n",
      "torch.Size([1, 2, 6])\n",
      "\n",
      "2nd Example:\n",
      "tensor([[[100., 110., 120., 130., 140., 150.],\n",
      "         [105., 115., 125., 135., 145., 155.]]])\n",
      "torch.Size([1, 2, 6])\n",
      "\n",
      "Batched Examples:\n",
      "tensor([[[  0.,  10.,  20.,  30.,  40.,  50.],\n",
      "         [  5.,  15.,  25.,  35.,  45.,  55.]],\n",
      "\n",
      "        [[100., 110., 120., 130., 140., 150.],\n",
      "         [105., 115., 125., 135., 145., 155.]]])\n",
      "torch.Size([2, 2, 6])\n"
     ]
    }
   ],
   "source": [
    "seq_len = 6\n",
    "channels = 2\n",
    "\n",
    "example1 = torch.zeros((1,channels,seq_len)) + torch.arange(seq_len).float() * 10\n",
    "example1[:,1] = example1[:,1] + 5\n",
    "print(f'1st Example:\\n{example1}\\n{example1.shape}\\n')\n",
    "\n",
    "example2 = example1 + 100\n",
    "print(f'2nd Example:\\n{example2}\\n{example2.shape}\\n')\n",
    "\n",
    "examples = torch.cat((example1, example2), 0)\n",
    "print(f'Batched Examples:\\n{examples}\\n{examples.shape}')"
   ]
  },
  {
   "cell_type": "markdown",
   "metadata": {},
   "source": [
    "## run it"
   ]
  },
  {
   "cell_type": "markdown",
   "metadata": {},
   "source": [
    "### only 1 output per input"
   ]
  },
  {
   "cell_type": "code",
   "execution_count": 35,
   "metadata": {
    "scrolled": false
   },
   "outputs": [
    {
     "name": "stdout",
     "output_type": "stream",
     "text": [
      "4th Example:\n",
      "tensor([[[  0.,  10.,  20.,  30.,  40.,  50.,  60.,  70.,  80.,  90.],\n",
      "         [-35., -25., -15.,  -5.,   5.,  15.,  25.,  35.,  45.,  55.]]])\n",
      "torch.Size([1, 2, 10])\n",
      "\n",
      "TARGETS:\n",
      "tensor([[[[ 10.,  20.],\n",
      "          [ 20.,  30.],\n",
      "          [ 30.,  40.],\n",
      "          [ 40.,  50.],\n",
      "          [ 50.,  60.],\n",
      "          [ 60.,  70.],\n",
      "          [ 70.,  80.],\n",
      "          [ 80.,  90.]],\n",
      "\n",
      "         [[-25., -15.],\n",
      "          [-15.,  -5.],\n",
      "          [ -5.,   5.],\n",
      "          [  5.,  15.],\n",
      "          [ 15.,  25.],\n",
      "          [ 25.,  35.],\n",
      "          [ 35.,  45.],\n",
      "          [ 45.,  55.]]]])\n",
      "torch.Size([1, 2, 8, 2])\n",
      "\n",
      "LAYER 1\n",
      "PADDED INPUT:\n",
      "tensor([[[  0.,   0.,   0.,  10.,  20.,  30.,  40.,  50.,  60.,  70.],\n",
      "         [  0.,   0., -35., -25., -15.,  -5.,   5.,  15.,  25.,  35.]]])\n",
      "torch.Size([1, 2, 10])\n",
      "PREDS1:\n",
      "tensor([[[-35., -15., -30.,  10.,  50.,  90., 130., 170.],\n",
      "         [-35., -15., -30.,  10.,  50.,  90., 130., 170.],\n",
      "         [-35., -15., -30.,  10.,  50.,  90., 130., 170.],\n",
      "         [-35., -15., -30.,  10.,  50.,  90., 130., 170.],\n",
      "         [-35., -15., -30.,  10.,  50.,  90., 130., 170.],\n",
      "         [-35., -15., -30.,  10.,  50.,  90., 130., 170.],\n",
      "         [-35., -15., -30.,  10.,  50.,  90., 130., 170.],\n",
      "         [-35., -15., -30.,  10.,  50.,  90., 130., 170.],\n",
      "         [-35., -15., -30.,  10.,  50.,  90., 130., 170.],\n",
      "         [-35., -15., -30.,  10.,  50.,  90., 130., 170.]]],\n",
      "       grad_fn=<SqueezeBackward1>)\n",
      "torch.Size([1, 10, 8])\n",
      "\n",
      "ACTS1:\n",
      "tensor([[[  0.,   0.,   0.,  10.,  50.,  90., 130., 170.],\n",
      "         [  0.,   0.,   0.,  10.,  50.,  90., 130., 170.],\n",
      "         [  0.,   0.,   0.,  10.,  50.,  90., 130., 170.],\n",
      "         [  0.,   0.,   0.,  10.,  50.,  90., 130., 170.],\n",
      "         [  0.,   0.,   0.,  10.,  50.,  90., 130., 170.],\n",
      "         [  0.,   0.,   0.,  10.,  50.,  90., 130., 170.],\n",
      "         [  0.,   0.,   0.,  10.,  50.,  90., 130., 170.],\n",
      "         [  0.,   0.,   0.,  10.,  50.,  90., 130., 170.],\n",
      "         [  0.,   0.,   0.,  10.,  50.,  90., 130., 170.],\n",
      "         [  0.,   0.,   0.,  10.,  50.,  90., 130., 170.]]],\n",
      "       grad_fn=<ReluBackward0>)\n",
      "torch.Size([1, 10, 8])\n",
      "\n",
      "LAYER 2\n",
      "PADDED INPUT:\n",
      "tensor([[[  0.,   0.,   0.,   0.,   0.,  10.,  50.,  90., 130., 170.],\n",
      "         [  0.,   0.,   0.,   0.,   0.,  10.,  50.,  90., 130., 170.],\n",
      "         [  0.,   0.,   0.,   0.,   0.,  10.,  50.,  90., 130., 170.],\n",
      "         [  0.,   0.,   0.,   0.,   0.,  10.,  50.,  90., 130., 170.],\n",
      "         [  0.,   0.,   0.,   0.,   0.,  10.,  50.,  90., 130., 170.],\n",
      "         [  0.,   0.,   0.,   0.,   0.,  10.,  50.,  90., 130., 170.],\n",
      "         [  0.,   0.,   0.,   0.,   0.,  10.,  50.,  90., 130., 170.],\n",
      "         [  0.,   0.,   0.,   0.,   0.,  10.,  50.,  90., 130., 170.],\n",
      "         [  0.,   0.,   0.,   0.,   0.,  10.,  50.,  90., 130., 170.],\n",
      "         [  0.,   0.,   0.,   0.,   0.,  10.,  50.,  90., 130., 170.]]],\n",
      "       grad_fn=<ConstantPadNdBackward>)\n",
      "torch.Size([1, 10, 10])\n",
      "PREDS2:\n",
      "tensor([[[   0.,    0.,    0.,  100.,  500., 1000., 1800., 2600.],\n",
      "         [   0.,    0.,    0.,  100.,  500., 1000., 1800., 2600.],\n",
      "         [   0.,    0.,    0.,  100.,  500., 1000., 1800., 2600.],\n",
      "         [   0.,    0.,    0.,  100.,  500., 1000., 1800., 2600.]]],\n",
      "       grad_fn=<SqueezeBackward1>)\n",
      "torch.Size([1, 4, 8])\n",
      "\n",
      "PREDS:\n",
      "tensor([[[[   0.,    0.],\n",
      "          [   0.,    0.],\n",
      "          [   0.,    0.],\n",
      "          [ 100.,  100.],\n",
      "          [ 500.,  500.],\n",
      "          [1000., 1000.],\n",
      "          [1800., 1800.],\n",
      "          [2600., 2600.]],\n",
      "\n",
      "         [[   0.,    0.],\n",
      "          [   0.,    0.],\n",
      "          [   0.,    0.],\n",
      "          [ 100.,  100.],\n",
      "          [ 500.,  500.],\n",
      "          [1000., 1000.],\n",
      "          [1800., 1800.],\n",
      "          [2600., 2600.]]]], grad_fn=<PermuteBackward>)\n",
      "torch.Size([1, 2, 8, 2])\n",
      "\n",
      "OUT_TIME:\n",
      "tensor([[1, 2],\n",
      "        [2, 3],\n",
      "        [3, 4],\n",
      "        [4, 5],\n",
      "        [5, 6],\n",
      "        [6, 7],\n",
      "        [7, 8],\n",
      "        [8, 9]])\n",
      "torch.Size([8, 2])\n",
      "\n"
     ]
    }
   ],
   "source": [
    "kernel_size = 2\n",
    "dilation = 2\n",
    "stride = 1\n",
    "in_channels = 2\n",
    "out_channels = in_channels # autoencoder remember\n",
    "# new\n",
    "out_timesteps = 2\n",
    "\n",
    "model = Conv1dAutoencoder(in_channels = in_channels, out_channels = out_channels, out_timesteps = out_timesteps,kernel_size = kernel_size, \n",
    "                         bias = False,dilation = dilation,  stride = stride, verbose = True)\n",
    "\n",
    "# model.layer1.weight.data = torch.ones(out_channels * out_timesteps,in_channels,kernel_size)\n",
    "# model.layer2.weight.data = torch.ones(out_channels * out_timesteps,in_channels,kernel_size)\n",
    "model.layer1.conv.weight.data = torch.ones(model.layer1.conv.weight.data.shape)\n",
    "model.layer2.conv.weight.data = torch.ones(model.layer2.conv.weight.data.shape)\n",
    "\n",
    "seq_len = 10\n",
    "example4 = torch.zeros((1,2,seq_len)) + torch.arange(seq_len).float() * 10\n",
    "example4[:,1] = example4[:,1] - 35\n",
    "print(f'4th Example:\\n{example4}\\n{example4.shape}\\n')\n",
    "\n",
    "X, preds, targets, out_time = model(example4)\n"
   ]
  },
  {
   "cell_type": "code",
   "execution_count": null,
   "metadata": {},
   "outputs": [],
   "source": []
  },
  {
   "cell_type": "code",
   "execution_count": null,
   "metadata": {},
   "outputs": [],
   "source": []
  },
  {
   "cell_type": "code",
   "execution_count": null,
   "metadata": {},
   "outputs": [],
   "source": []
  },
  {
   "cell_type": "code",
   "execution_count": null,
   "metadata": {},
   "outputs": [],
   "source": []
  },
  {
   "cell_type": "code",
   "execution_count": null,
   "metadata": {},
   "outputs": [],
   "source": []
  },
  {
   "cell_type": "markdown",
   "metadata": {},
   "source": [
    "choose the batch and channel and "
   ]
  },
  {
   "cell_type": "code",
   "execution_count": 81,
   "metadata": {},
   "outputs": [
    {
     "data": {
      "text/plain": [
       "<matplotlib.legend.Legend at 0x7fd082069c88>"
      ]
     },
     "execution_count": 81,
     "metadata": {},
     "output_type": "execute_result"
    },
    {
     "data": {
      "image/png": "[encoded data removed]",
      "text/plain": [
       "<Figure size 432x288 with 1 Axes>"
      ]
     },
     "metadata": {
      "needs_background": "light"
     },
     "output_type": "display_data"
    }
   ],
   "source": [
    "# choose example (right now it just a batch of one so it's \n",
    "# kind of redundant but it typically wont be)\n",
    "example_idx = 0\n",
    "channel_idx = 0\n",
    "\n",
    "ex_preds   = preds[example_idx,channel_idx]\n",
    "ex_targets = targets[example_idx,channel_idx]\n",
    "\n",
    "# since h = 1, we can just collapse the outputs to 1 dim before plot them\n",
    "ex_preds   = ex_preds.squeeze().detach()\n",
    "ex_targets = ex_targets.squeeze()\n",
    "\n",
    "# gonna jitter the preds so that the plot looks like it would\n",
    "ex_preds = ex_preds + torch.rand(ex_preds.shape) * ex_preds.mean()\n",
    "\n",
    "plt.plot(out_time,ex_targets)\n",
    "plt.plot(out_time,ex_preds)\n",
    "plt.legend(['targets','preds'])"
   ]
  },
  {
   "cell_type": "markdown",
   "metadata": {
    "heading_collapsed": true
   },
   "source": [
    "### multi output per input"
   ]
  },
  {
   "cell_type": "code",
   "execution_count": 136,
   "metadata": {
    "hidden": true,
    "scrolled": true
   },
   "outputs": [
    {
     "name": "stdout",
     "output_type": "stream",
     "text": [
      "4th Example:\n",
      "tensor([[[  0.,  10.,  20.,  30.,  40.,  50.,  60.,  70.,  80.,  90., 100.,\n",
      "          110., 120., 130., 140., 150., 160., 170., 180., 190., 200., 210.,\n",
      "          220., 230., 240., 250., 260., 270., 280., 290.],\n",
      "         [  5.,  15.,  25.,  35.,  45.,  55.,  65.,  75.,  85.,  95., 105.,\n",
      "          115., 125., 135., 145., 155., 165., 175., 185., 195., 205., 215.,\n",
      "          225., 235., 245., 255., 265., 275., 285., 295.]]])\n",
      "torch.Size([1, 2, 30])\n",
      "\n",
      "X:\n",
      "tensor([[[  0.,   0.,   0.,  10.,  20.,  30.,  40.,  50.,  60.,  70.,  80.,\n",
      "           90., 100., 110., 120., 130., 140., 150., 160., 170., 180., 190.],\n",
      "         [  0.,   0.,   5.,  15.,  25.,  35.,  45.,  55.,  65.,  75.,  85.,\n",
      "           95., 105., 115., 125., 135., 145., 155., 165., 175., 185., 195.]]])\n",
      "torch.Size([1, 2, 22])\n",
      "\n",
      "PREDS:\n",
      "tensor([[[[  5.,   5.,   5.,   5.,   5.,   5.,   5.,   5.,   5.,   5.],\n",
      "          [ 25.,  25.,  25.,  25.,  25.,  25.,  25.,  25.,  25.,  25.],\n",
      "          [ 50.,  50.,  50.,  50.,  50.,  50.,  50.,  50.,  50.,  50.],\n",
      "          [ 90.,  90.,  90.,  90.,  90.,  90.,  90.,  90.,  90.,  90.],\n",
      "          [130., 130., 130., 130., 130., 130., 130., 130., 130., 130.],\n",
      "          [170., 170., 170., 170., 170., 170., 170., 170., 170., 170.],\n",
      "          [210., 210., 210., 210., 210., 210., 210., 210., 210., 210.],\n",
      "          [250., 250., 250., 250., 250., 250., 250., 250., 250., 250.],\n",
      "          [290., 290., 290., 290., 290., 290., 290., 290., 290., 290.],\n",
      "          [330., 330., 330., 330., 330., 330., 330., 330., 330., 330.],\n",
      "          [370., 370., 370., 370., 370., 370., 370., 370., 370., 370.],\n",
      "          [410., 410., 410., 410., 410., 410., 410., 410., 410., 410.],\n",
      "          [450., 450., 450., 450., 450., 450., 450., 450., 450., 450.],\n",
      "          [490., 490., 490., 490., 490., 490., 490., 490., 490., 490.],\n",
      "          [530., 530., 530., 530., 530., 530., 530., 530., 530., 530.],\n",
      "          [570., 570., 570., 570., 570., 570., 570., 570., 570., 570.],\n",
      "          [610., 610., 610., 610., 610., 610., 610., 610., 610., 610.],\n",
      "          [650., 650., 650., 650., 650., 650., 650., 650., 650., 650.],\n",
      "          [690., 690., 690., 690., 690., 690., 690., 690., 690., 690.],\n",
      "          [730., 730., 730., 730., 730., 730., 730., 730., 730., 730.]],\n",
      "\n",
      "         [[  5.,   5.,   5.,   5.,   5.,   5.,   5.,   5.,   5.,   5.],\n",
      "          [ 25.,  25.,  25.,  25.,  25.,  25.,  25.,  25.,  25.,  25.],\n",
      "          [ 50.,  50.,  50.,  50.,  50.,  50.,  50.,  50.,  50.,  50.],\n",
      "          [ 90.,  90.,  90.,  90.,  90.,  90.,  90.,  90.,  90.,  90.],\n",
      "          [130., 130., 130., 130., 130., 130., 130., 130., 130., 130.],\n",
      "          [170., 170., 170., 170., 170., 170., 170., 170., 170., 170.],\n",
      "          [210., 210., 210., 210., 210., 210., 210., 210., 210., 210.],\n",
      "          [250., 250., 250., 250., 250., 250., 250., 250., 250., 250.],\n",
      "          [290., 290., 290., 290., 290., 290., 290., 290., 290., 290.],\n",
      "          [330., 330., 330., 330., 330., 330., 330., 330., 330., 330.],\n",
      "          [370., 370., 370., 370., 370., 370., 370., 370., 370., 370.],\n",
      "          [410., 410., 410., 410., 410., 410., 410., 410., 410., 410.],\n",
      "          [450., 450., 450., 450., 450., 450., 450., 450., 450., 450.],\n",
      "          [490., 490., 490., 490., 490., 490., 490., 490., 490., 490.],\n",
      "          [530., 530., 530., 530., 530., 530., 530., 530., 530., 530.],\n",
      "          [570., 570., 570., 570., 570., 570., 570., 570., 570., 570.],\n",
      "          [610., 610., 610., 610., 610., 610., 610., 610., 610., 610.],\n",
      "          [650., 650., 650., 650., 650., 650., 650., 650., 650., 650.],\n",
      "          [690., 690., 690., 690., 690., 690., 690., 690., 690., 690.],\n",
      "          [730., 730., 730., 730., 730., 730., 730., 730., 730., 730.]]]],\n",
      "       grad_fn=<PermuteBackward>)\n",
      "torch.Size([1, 2, 20, 10])\n",
      "\n",
      "TARGETS:\n",
      "tensor([[[[ 10.,  20.,  30.,  40.,  50.,  60.,  70.,  80.,  90., 100.],\n",
      "          [ 20.,  30.,  40.,  50.,  60.,  70.,  80.,  90., 100., 110.],\n",
      "          [ 30.,  40.,  50.,  60.,  70.,  80.,  90., 100., 110., 120.],\n",
      "          [ 40.,  50.,  60.,  70.,  80.,  90., 100., 110., 120., 130.],\n",
      "          [ 50.,  60.,  70.,  80.,  90., 100., 110., 120., 130., 140.],\n",
      "          [ 60.,  70.,  80.,  90., 100., 110., 120., 130., 140., 150.],\n",
      "          [ 70.,  80.,  90., 100., 110., 120., 130., 140., 150., 160.],\n",
      "          [ 80.,  90., 100., 110., 120., 130., 140., 150., 160., 170.],\n",
      "          [ 90., 100., 110., 120., 130., 140., 150., 160., 170., 180.],\n",
      "          [100., 110., 120., 130., 140., 150., 160., 170., 180., 190.],\n",
      "          [110., 120., 130., 140., 150., 160., 170., 180., 190., 200.],\n",
      "          [120., 130., 140., 150., 160., 170., 180., 190., 200., 210.],\n",
      "          [130., 140., 150., 160., 170., 180., 190., 200., 210., 220.],\n",
      "          [140., 150., 160., 170., 180., 190., 200., 210., 220., 230.],\n",
      "          [150., 160., 170., 180., 190., 200., 210., 220., 230., 240.],\n",
      "          [160., 170., 180., 190., 200., 210., 220., 230., 240., 250.],\n",
      "          [170., 180., 190., 200., 210., 220., 230., 240., 250., 260.],\n",
      "          [180., 190., 200., 210., 220., 230., 240., 250., 260., 270.],\n",
      "          [190., 200., 210., 220., 230., 240., 250., 260., 270., 280.],\n",
      "          [200., 210., 220., 230., 240., 250., 260., 270., 280., 290.]],\n",
      "\n",
      "         [[ 15.,  25.,  35.,  45.,  55.,  65.,  75.,  85.,  95., 105.],\n",
      "          [ 25.,  35.,  45.,  55.,  65.,  75.,  85.,  95., 105., 115.],\n",
      "          [ 35.,  45.,  55.,  65.,  75.,  85.,  95., 105., 115., 125.],\n",
      "          [ 45.,  55.,  65.,  75.,  85.,  95., 105., 115., 125., 135.],\n",
      "          [ 55.,  65.,  75.,  85.,  95., 105., 115., 125., 135., 145.],\n",
      "          [ 65.,  75.,  85.,  95., 105., 115., 125., 135., 145., 155.],\n",
      "          [ 75.,  85.,  95., 105., 115., 125., 135., 145., 155., 165.],\n",
      "          [ 85.,  95., 105., 115., 125., 135., 145., 155., 165., 175.],\n",
      "          [ 95., 105., 115., 125., 135., 145., 155., 165., 175., 185.],\n",
      "          [105., 115., 125., 135., 145., 155., 165., 175., 185., 195.],\n",
      "          [115., 125., 135., 145., 155., 165., 175., 185., 195., 205.],\n",
      "          [125., 135., 145., 155., 165., 175., 185., 195., 205., 215.],\n",
      "          [135., 145., 155., 165., 175., 185., 195., 205., 215., 225.],\n",
      "          [145., 155., 165., 175., 185., 195., 205., 215., 225., 235.],\n",
      "          [155., 165., 175., 185., 195., 205., 215., 225., 235., 245.],\n",
      "          [165., 175., 185., 195., 205., 215., 225., 235., 245., 255.],\n",
      "          [175., 185., 195., 205., 215., 225., 235., 245., 255., 265.],\n",
      "          [185., 195., 205., 215., 225., 235., 245., 255., 265., 275.],\n",
      "          [195., 205., 215., 225., 235., 245., 255., 265., 275., 285.],\n",
      "          [205., 215., 225., 235., 245., 255., 265., 275., 285., 295.]]]])\n",
      "torch.Size([1, 2, 20, 10])\n",
      "\n",
      "RESHAPED TIME:\n",
      "tensor([[ 1,  2,  3,  4,  5,  6,  7,  8,  9, 10],\n",
      "        [ 2,  3,  4,  5,  6,  7,  8,  9, 10, 11],\n",
      "        [ 3,  4,  5,  6,  7,  8,  9, 10, 11, 12],\n",
      "        [ 4,  5,  6,  7,  8,  9, 10, 11, 12, 13],\n",
      "        [ 5,  6,  7,  8,  9, 10, 11, 12, 13, 14],\n",
      "        [ 6,  7,  8,  9, 10, 11, 12, 13, 14, 15],\n",
      "        [ 7,  8,  9, 10, 11, 12, 13, 14, 15, 16],\n",
      "        [ 8,  9, 10, 11, 12, 13, 14, 15, 16, 17],\n",
      "        [ 9, 10, 11, 12, 13, 14, 15, 16, 17, 18],\n",
      "        [10, 11, 12, 13, 14, 15, 16, 17, 18, 19],\n",
      "        [11, 12, 13, 14, 15, 16, 17, 18, 19, 20],\n",
      "        [12, 13, 14, 15, 16, 17, 18, 19, 20, 21],\n",
      "        [13, 14, 15, 16, 17, 18, 19, 20, 21, 22],\n",
      "        [14, 15, 16, 17, 18, 19, 20, 21, 22, 23],\n",
      "        [15, 16, 17, 18, 19, 20, 21, 22, 23, 24],\n",
      "        [16, 17, 18, 19, 20, 21, 22, 23, 24, 25],\n",
      "        [17, 18, 19, 20, 21, 22, 23, 24, 25, 26],\n",
      "        [18, 19, 20, 21, 22, 23, 24, 25, 26, 27],\n",
      "        [19, 20, 21, 22, 23, 24, 25, 26, 27, 28],\n",
      "        [20, 21, 22, 23, 24, 25, 26, 27, 28, 29]])\n",
      "torch.Size([20, 10])\n"
     ]
    }
   ],
   "source": [
    "kernel_size = 2\n",
    "dilation = 2\n",
    "stride = 1\n",
    "in_channels = 2\n",
    "out_channels = in_channels # autoencoder remember\n",
    "# new\n",
    "out_timesteps = 10\n",
    "\n",
    "model = Conv1dAutoencoder(in_channels = in_channels, \n",
    "                         # new\n",
    "                         out_channels = out_channels,\n",
    "                          out_timesteps = out_timesteps,\n",
    "                         kernel_size = kernel_size, \n",
    "                         bias = False,\n",
    "                         dilation = dilation,\n",
    "                         stride = stride)\n",
    "\n",
    "model.conv.weight.data = torch.ones(out_channels * out_timesteps,in_channels,kernel_size)\n",
    "\n",
    "seq_len = 30\n",
    "example4 = torch.zeros((1,2,seq_len)) + torch.arange(seq_len).float() * 10\n",
    "example4[:,1] = example4[:,1] + 5\n",
    "print(f'4th Example:\\n{example4}\\n{example4.shape}\\n')\n",
    "\n",
    "X, preds, targets, out_time = model(example4)\n",
    "\n",
    "\n",
    "\n",
    "print(f'X:\\n{X}\\n{X.shape}\\n')\n",
    "print(f'PREDS:\\n{preds}\\n{preds.shape}\\n')\n",
    "print(f'TARGETS:\\n{targets}\\n{targets.shape}\\n')\n",
    "print(f'RESHAPED TIME:\\n{out_time}\\n{out_time.shape}')"
   ]
  },
  {
   "cell_type": "markdown",
   "metadata": {
    "hidden": true
   },
   "source": [
    "a lot of redundancies in the targets"
   ]
  },
  {
   "cell_type": "code",
   "execution_count": 124,
   "metadata": {
    "hidden": true,
    "scrolled": true
   },
   "outputs": [
    {
     "data": {
      "text/plain": [
       "<matplotlib.legend.Legend at 0x7fd07b8383c8>"
      ]
     },
     "execution_count": 124,
     "metadata": {},
     "output_type": "execute_result"
    },
    {
     "data": {
      "image/png": "[encoded data removed]",
      "text/plain": [
       "<Figure size 432x288 with 1 Axes>"
      ]
     },
     "metadata": {
      "needs_background": "light"
     },
     "output_type": "display_data"
    }
   ],
   "source": [
    "# choose example (right now it just a batch of one so it's \n",
    "# kind of redundant but it typically wont be)\n",
    "example_idx = 0\n",
    "channel_idx = 0\n",
    "\n",
    "ex_preds   = preds[example_idx,channel_idx]\n",
    "ex_targets = targets[example_idx,channel_idx]\n",
    "\n",
    "# since h = 1, we can just collapse the outputs to 1 dim before plot them\n",
    "ex_preds   = ex_preds.detach()#.squeeze()\n",
    "# ex_targets = ex_targets\n",
    "\n",
    "# gonna jitter the preds so that the plot looks like it would\n",
    "ex_preds = ex_preds + torch.rand(ex_preds.shape) * ex_preds.mean()\n",
    "\n",
    "plt.plot(out_time,ex_targets,c='k')\n",
    "plt.scatter(out_time,ex_preds,s=4,c='r',alpha=0.8)\n",
    "plt.legend(['targets'])"
   ]
  },
  {
   "cell_type": "markdown",
   "metadata": {
    "hidden": true
   },
   "source": [
    "Note without the jittering"
   ]
  },
  {
   "cell_type": "code",
   "execution_count": 127,
   "metadata": {
    "hidden": true
   },
   "outputs": [
    {
     "data": {
      "text/plain": [
       "<matplotlib.legend.Legend at 0x7fd07b696fd0>"
      ]
     },
     "execution_count": 127,
     "metadata": {},
     "output_type": "execute_result"
    },
    {
     "data": {
      "image/png": "[encoded data removed]",
      "text/plain": [
       "<Figure size 432x288 with 1 Axes>"
      ]
     },
     "metadata": {
      "needs_background": "light"
     },
     "output_type": "display_data"
    }
   ],
   "source": [
    "# choose example (right now it just a batch of one so it's \n",
    "# kind of redundant but it typically wont be)\n",
    "example_idx = 0\n",
    "channel_idx = 0\n",
    "\n",
    "ex_preds   = preds[example_idx,channel_idx]\n",
    "ex_targets = targets[example_idx,channel_idx]\n",
    "\n",
    "# since h = 1, we can just collapse the outputs to 1 dim before plot them\n",
    "ex_preds   = ex_preds.detach()#.squeeze()\n",
    "# ex_targets = ex_targets\n",
    "\n",
    "# gonna jitter the preds so that the plot looks like it would\n",
    "# ex_preds = ex_preds + torch.rand(ex_preds.shape) * ex_preds.mean()\n",
    "\n",
    "plt.plot(out_time,ex_targets,c='k')\n",
    "plt.scatter(out_time,ex_preds,s=4,c='r',alpha=0.8)\n",
    "plt.legend(['targets'])"
   ]
  },
  {
   "cell_type": "markdown",
   "metadata": {},
   "source": [
    "# Function to handle plotting"
   ]
  },
  {
   "cell_type": "code",
   "execution_count": 144,
   "metadata": {},
   "outputs": [],
   "source": [
    "def plot_preds(out_time, preds, targets, h, example_idx=0, channel_idx=0,\n",
    "              markersize = 4, pred_color = 'r', target_color = 'k', alpha = 0.8):\n",
    "    '''Plots two line plots if not stacked and a scatter plot for preds if it is'''\n",
    "    # select batch_example and channel, detach preds if necessary\n",
    "    ex_preds   = preds[example_idx,channel_idx].detach()\n",
    "    ex_targets = targets[example_idx,channel_idx]\n",
    "    \n",
    "    if h == 1:\n",
    "        # plot line graphs after squeezing the redundant output out\n",
    "        ex_preds   = ex_preds.squeeze()\n",
    "        ex_targets = ex_targets.squeeze()\n",
    "        plt.plot(out_time,ex_targets,c=target_color)\n",
    "        plt.plot(out_time,ex_preds,c=pred_color)\n",
    "        plt.legend(['targets','preds'])\n",
    "        return\n",
    "    else:\n",
    "        # plot line for targets and scatter for preds\n",
    "        plt.plot(out_time,ex_targets,c=target_color)\n",
    "        plt.scatter(out_time,ex_preds,s=markersize,c=pred_color,alpha=alpha)\n",
    "        plt.legend(['targets'])\n",
    "        return"
   ]
  },
  {
   "cell_type": "code",
   "execution_count": 149,
   "metadata": {},
   "outputs": [
    {
     "data": {
      "image/png": "[encoded data removed]",
      "text/plain": [
       "<Figure size 432x288 with 1 Axes>"
      ]
     },
     "metadata": {
      "needs_background": "light"
     },
     "output_type": "display_data"
    }
   ],
   "source": [
    "preds_jittered = preds + torch.rand(preds.shape) * preds.mean()\n",
    "plot_preds(out_time,preds_jittered,targets,out_timesteps)"
   ]
  },
  {
   "cell_type": "markdown",
   "metadata": {},
   "source": [
    "# 2nd function to plot based on length from present\n",
    "\n",
    "Maybe I want to see how well I'm doing in the distant future vs the nearest to present"
   ]
  },
  {
   "cell_type": "markdown",
   "metadata": {
    "heading_collapsed": true
   },
   "source": [
    "## multi output example\n",
    "note it only makes sense on multi-output"
   ]
  },
  {
   "cell_type": "code",
   "execution_count": 150,
   "metadata": {
    "hidden": true,
    "scrolled": true
   },
   "outputs": [
    {
     "name": "stdout",
     "output_type": "stream",
     "text": [
      "4th Example:\n",
      "tensor([[[  0.,  10.,  20.,  30.,  40.,  50.,  60.,  70.,  80.,  90., 100.,\n",
      "          110., 120., 130., 140., 150., 160., 170., 180., 190., 200., 210.,\n",
      "          220., 230., 240., 250., 260., 270., 280., 290.],\n",
      "         [  5.,  15.,  25.,  35.,  45.,  55.,  65.,  75.,  85.,  95., 105.,\n",
      "          115., 125., 135., 145., 155., 165., 175., 185., 195., 205., 215.,\n",
      "          225., 235., 245., 255., 265., 275., 285., 295.]]])\n",
      "torch.Size([1, 2, 30])\n",
      "\n",
      "X:\n",
      "tensor([[[  0.,   0.,   0.,  10.,  20.,  30.,  40.,  50.,  60.,  70.,  80.,\n",
      "           90., 100., 110., 120., 130., 140., 150., 160., 170., 180., 190.],\n",
      "         [  0.,   0.,   5.,  15.,  25.,  35.,  45.,  55.,  65.,  75.,  85.,\n",
      "           95., 105., 115., 125., 135., 145., 155., 165., 175., 185., 195.]]])\n",
      "torch.Size([1, 2, 22])\n",
      "\n",
      "PREDS:\n",
      "tensor([[[[  5.,   5.,   5.,   5.,   5.,   5.,   5.,   5.,   5.,   5.],\n",
      "          [ 25.,  25.,  25.,  25.,  25.,  25.,  25.,  25.,  25.,  25.],\n",
      "          [ 50.,  50.,  50.,  50.,  50.,  50.,  50.,  50.,  50.,  50.],\n",
      "          [ 90.,  90.,  90.,  90.,  90.,  90.,  90.,  90.,  90.,  90.],\n",
      "          [130., 130., 130., 130., 130., 130., 130., 130., 130., 130.],\n",
      "          [170., 170., 170., 170., 170., 170., 170., 170., 170., 170.],\n",
      "          [210., 210., 210., 210., 210., 210., 210., 210., 210., 210.],\n",
      "          [250., 250., 250., 250., 250., 250., 250., 250., 250., 250.],\n",
      "          [290., 290., 290., 290., 290., 290., 290., 290., 290., 290.],\n",
      "          [330., 330., 330., 330., 330., 330., 330., 330., 330., 330.],\n",
      "          [370., 370., 370., 370., 370., 370., 370., 370., 370., 370.],\n",
      "          [410., 410., 410., 410., 410., 410., 410., 410., 410., 410.],\n",
      "          [450., 450., 450., 450., 450., 450., 450., 450., 450., 450.],\n",
      "          [490., 490., 490., 490., 490., 490., 490., 490., 490., 490.],\n",
      "          [530., 530., 530., 530., 530., 530., 530., 530., 530., 530.],\n",
      "          [570., 570., 570., 570., 570., 570., 570., 570., 570., 570.],\n",
      "          [610., 610., 610., 610., 610., 610., 610., 610., 610., 610.],\n",
      "          [650., 650., 650., 650., 650., 650., 650., 650., 650., 650.],\n",
      "          [690., 690., 690., 690., 690., 690., 690., 690., 690., 690.],\n",
      "          [730., 730., 730., 730., 730., 730., 730., 730., 730., 730.]],\n",
      "\n",
      "         [[  5.,   5.,   5.,   5.,   5.,   5.,   5.,   5.,   5.,   5.],\n",
      "          [ 25.,  25.,  25.,  25.,  25.,  25.,  25.,  25.,  25.,  25.],\n",
      "          [ 50.,  50.,  50.,  50.,  50.,  50.,  50.,  50.,  50.,  50.],\n",
      "          [ 90.,  90.,  90.,  90.,  90.,  90.,  90.,  90.,  90.,  90.],\n",
      "          [130., 130., 130., 130., 130., 130., 130., 130., 130., 130.],\n",
      "          [170., 170., 170., 170., 170., 170., 170., 170., 170., 170.],\n",
      "          [210., 210., 210., 210., 210., 210., 210., 210., 210., 210.],\n",
      "          [250., 250., 250., 250., 250., 250., 250., 250., 250., 250.],\n",
      "          [290., 290., 290., 290., 290., 290., 290., 290., 290., 290.],\n",
      "          [330., 330., 330., 330., 330., 330., 330., 330., 330., 330.],\n",
      "          [370., 370., 370., 370., 370., 370., 370., 370., 370., 370.],\n",
      "          [410., 410., 410., 410., 410., 410., 410., 410., 410., 410.],\n",
      "          [450., 450., 450., 450., 450., 450., 450., 450., 450., 450.],\n",
      "          [490., 490., 490., 490., 490., 490., 490., 490., 490., 490.],\n",
      "          [530., 530., 530., 530., 530., 530., 530., 530., 530., 530.],\n",
      "          [570., 570., 570., 570., 570., 570., 570., 570., 570., 570.],\n",
      "          [610., 610., 610., 610., 610., 610., 610., 610., 610., 610.],\n",
      "          [650., 650., 650., 650., 650., 650., 650., 650., 650., 650.],\n",
      "          [690., 690., 690., 690., 690., 690., 690., 690., 690., 690.],\n",
      "          [730., 730., 730., 730., 730., 730., 730., 730., 730., 730.]]]],\n",
      "       grad_fn=<PermuteBackward>)\n",
      "torch.Size([1, 2, 20, 10])\n",
      "\n",
      "TARGETS:\n",
      "tensor([[[[ 10.,  20.,  30.,  40.,  50.,  60.,  70.,  80.,  90., 100.],\n",
      "          [ 20.,  30.,  40.,  50.,  60.,  70.,  80.,  90., 100., 110.],\n",
      "          [ 30.,  40.,  50.,  60.,  70.,  80.,  90., 100., 110., 120.],\n",
      "          [ 40.,  50.,  60.,  70.,  80.,  90., 100., 110., 120., 130.],\n",
      "          [ 50.,  60.,  70.,  80.,  90., 100., 110., 120., 130., 140.],\n",
      "          [ 60.,  70.,  80.,  90., 100., 110., 120., 130., 140., 150.],\n",
      "          [ 70.,  80.,  90., 100., 110., 120., 130., 140., 150., 160.],\n",
      "          [ 80.,  90., 100., 110., 120., 130., 140., 150., 160., 170.],\n",
      "          [ 90., 100., 110., 120., 130., 140., 150., 160., 170., 180.],\n",
      "          [100., 110., 120., 130., 140., 150., 160., 170., 180., 190.],\n",
      "          [110., 120., 130., 140., 150., 160., 170., 180., 190., 200.],\n",
      "          [120., 130., 140., 150., 160., 170., 180., 190., 200., 210.],\n",
      "          [130., 140., 150., 160., 170., 180., 190., 200., 210., 220.],\n",
      "          [140., 150., 160., 170., 180., 190., 200., 210., 220., 230.],\n",
      "          [150., 160., 170., 180., 190., 200., 210., 220., 230., 240.],\n",
      "          [160., 170., 180., 190., 200., 210., 220., 230., 240., 250.],\n",
      "          [170., 180., 190., 200., 210., 220., 230., 240., 250., 260.],\n",
      "          [180., 190., 200., 210., 220., 230., 240., 250., 260., 270.],\n",
      "          [190., 200., 210., 220., 230., 240., 250., 260., 270., 280.],\n",
      "          [200., 210., 220., 230., 240., 250., 260., 270., 280., 290.]],\n",
      "\n",
      "         [[ 15.,  25.,  35.,  45.,  55.,  65.,  75.,  85.,  95., 105.],\n",
      "          [ 25.,  35.,  45.,  55.,  65.,  75.,  85.,  95., 105., 115.],\n",
      "          [ 35.,  45.,  55.,  65.,  75.,  85.,  95., 105., 115., 125.],\n",
      "          [ 45.,  55.,  65.,  75.,  85.,  95., 105., 115., 125., 135.],\n",
      "          [ 55.,  65.,  75.,  85.,  95., 105., 115., 125., 135., 145.],\n",
      "          [ 65.,  75.,  85.,  95., 105., 115., 125., 135., 145., 155.],\n",
      "          [ 75.,  85.,  95., 105., 115., 125., 135., 145., 155., 165.],\n",
      "          [ 85.,  95., 105., 115., 125., 135., 145., 155., 165., 175.],\n",
      "          [ 95., 105., 115., 125., 135., 145., 155., 165., 175., 185.],\n",
      "          [105., 115., 125., 135., 145., 155., 165., 175., 185., 195.],\n",
      "          [115., 125., 135., 145., 155., 165., 175., 185., 195., 205.],\n",
      "          [125., 135., 145., 155., 165., 175., 185., 195., 205., 215.],\n",
      "          [135., 145., 155., 165., 175., 185., 195., 205., 215., 225.],\n",
      "          [145., 155., 165., 175., 185., 195., 205., 215., 225., 235.],\n",
      "          [155., 165., 175., 185., 195., 205., 215., 225., 235., 245.],\n",
      "          [165., 175., 185., 195., 205., 215., 225., 235., 245., 255.],\n",
      "          [175., 185., 195., 205., 215., 225., 235., 245., 255., 265.],\n",
      "          [185., 195., 205., 215., 225., 235., 245., 255., 265., 275.],\n",
      "          [195., 205., 215., 225., 235., 245., 255., 265., 275., 285.],\n",
      "          [205., 215., 225., 235., 245., 255., 265., 275., 285., 295.]]]])\n",
      "torch.Size([1, 2, 20, 10])\n",
      "\n",
      "RESHAPED TIME:\n",
      "tensor([[ 1,  2,  3,  4,  5,  6,  7,  8,  9, 10],\n",
      "        [ 2,  3,  4,  5,  6,  7,  8,  9, 10, 11],\n",
      "        [ 3,  4,  5,  6,  7,  8,  9, 10, 11, 12],\n",
      "        [ 4,  5,  6,  7,  8,  9, 10, 11, 12, 13],\n",
      "        [ 5,  6,  7,  8,  9, 10, 11, 12, 13, 14],\n",
      "        [ 6,  7,  8,  9, 10, 11, 12, 13, 14, 15],\n",
      "        [ 7,  8,  9, 10, 11, 12, 13, 14, 15, 16],\n",
      "        [ 8,  9, 10, 11, 12, 13, 14, 15, 16, 17],\n",
      "        [ 9, 10, 11, 12, 13, 14, 15, 16, 17, 18],\n",
      "        [10, 11, 12, 13, 14, 15, 16, 17, 18, 19],\n",
      "        [11, 12, 13, 14, 15, 16, 17, 18, 19, 20],\n",
      "        [12, 13, 14, 15, 16, 17, 18, 19, 20, 21],\n",
      "        [13, 14, 15, 16, 17, 18, 19, 20, 21, 22],\n",
      "        [14, 15, 16, 17, 18, 19, 20, 21, 22, 23],\n",
      "        [15, 16, 17, 18, 19, 20, 21, 22, 23, 24],\n",
      "        [16, 17, 18, 19, 20, 21, 22, 23, 24, 25],\n",
      "        [17, 18, 19, 20, 21, 22, 23, 24, 25, 26],\n",
      "        [18, 19, 20, 21, 22, 23, 24, 25, 26, 27],\n",
      "        [19, 20, 21, 22, 23, 24, 25, 26, 27, 28],\n",
      "        [20, 21, 22, 23, 24, 25, 26, 27, 28, 29]])\n",
      "torch.Size([20, 10])\n"
     ]
    }
   ],
   "source": [
    "kernel_size = 2\n",
    "dilation = 2\n",
    "stride = 1\n",
    "in_channels = 2\n",
    "out_channels = in_channels # autoencoder remember\n",
    "# new\n",
    "out_timesteps = 10\n",
    "\n",
    "model = Conv1dAutoencoder(in_channels = in_channels, \n",
    "                         # new\n",
    "                         out_channels = out_channels,\n",
    "                          out_timesteps = out_timesteps,\n",
    "                         kernel_size = kernel_size, \n",
    "                         bias = False,\n",
    "                         dilation = dilation,\n",
    "                         stride = stride)\n",
    "\n",
    "model.conv.weight.data = torch.ones(out_channels * out_timesteps,in_channels,kernel_size)\n",
    "\n",
    "seq_len = 30\n",
    "example4 = torch.zeros((1,2,seq_len)) + torch.arange(seq_len).float() * 10\n",
    "example4[:,1] = example4[:,1] + 5\n",
    "print(f'4th Example:\\n{example4}\\n{example4.shape}\\n')\n",
    "\n",
    "X, preds, targets, out_time = model(example4)\n",
    "\n",
    "\n",
    "\n",
    "print(f'X:\\n{X}\\n{X.shape}\\n')\n",
    "print(f'PREDS:\\n{preds}\\n{preds.shape}\\n')\n",
    "print(f'TARGETS:\\n{targets}\\n{targets.shape}\\n')\n",
    "print(f'RESHAPED TIME:\\n{out_time}\\n{out_time.shape}')"
   ]
  },
  {
   "cell_type": "markdown",
   "metadata": {
    "heading_collapsed": true
   },
   "source": [
    "## test plot\n",
    "only want to select a few lines, lets choose the first \"0th\" (closest to present), 5th, and the farthest idx = 9"
   ]
  },
  {
   "cell_type": "code",
   "execution_count": 151,
   "metadata": {
    "hidden": true
   },
   "outputs": [
    {
     "data": {
      "text/plain": [
       "10"
      ]
     },
     "execution_count": 151,
     "metadata": {},
     "output_type": "execute_result"
    }
   ],
   "source": [
    "out_timesteps"
   ]
  },
  {
   "cell_type": "code",
   "execution_count": 181,
   "metadata": {
    "hidden": true,
    "scrolled": true
   },
   "outputs": [
    {
     "data": {
      "text/plain": [
       "<matplotlib.legend.Legend at 0x7fd07b9a6ba8>"
      ]
     },
     "execution_count": 181,
     "metadata": {},
     "output_type": "execute_result"
    },
    {
     "data": {
      "image/png": "[encoded data removed]",
      "text/plain": [
       "<Figure size 432x288 with 1 Axes>"
      ]
     },
     "metadata": {
      "needs_background": "light"
     },
     "output_type": "display_data"
    }
   ],
   "source": [
    "# choose example (right now it just a batch of one so it's \n",
    "# kind of redundant but it typically wont be)\n",
    "example_idx = 0\n",
    "channel_idx = 0\n",
    "\n",
    "ex_preds   = preds[example_idx,channel_idx]\n",
    "ex_targets = targets[example_idx,channel_idx]\n",
    "\n",
    "# since h = 1, we can just collapse the outputs to 1 dim before plot them\n",
    "ex_preds   = ex_preds.detach()#.squeeze()\n",
    "# ex_targets = ex_targets\n",
    "\n",
    "# gonna jitter the preds so that the plot looks like it would\n",
    "ex_preds = ex_preds + torch.rand(ex_preds.shape) * ex_preds.mean()/5\n",
    "\n",
    "\n",
    "\n",
    "# predictions I'm interested in\n",
    "hs = [0,5,9]\n",
    "# plot prediction lines\n",
    "for i in hs:\n",
    "    plt.plot(out_time[:,i],ex_preds[:,i])\n",
    "    \n",
    "# plot target line\n",
    "plt.plot(out_time,ex_targets,c='k')\n",
    "leg = [f'{dist}th pred' for dist in hs]\n",
    "leg.append('targets')\n",
    "\n",
    "plt.legend(leg)"
   ]
  },
  {
   "cell_type": "markdown",
   "metadata": {
    "heading_collapsed": true,
    "hidden": true
   },
   "source": [
    "#### 9th prediction numbers\n",
    "sanity check"
   ]
  },
  {
   "cell_type": "code",
   "execution_count": 172,
   "metadata": {
    "hidden": true
   },
   "outputs": [
    {
     "data": {
      "text/plain": [
       "tensor([  5.0657,  29.5943,  77.6124, 115.6865, 163.0625, 196.8159, 234.9088,\n",
       "        284.1292, 314.2309, 346.1283, 400.3083, 429.1214, 456.7625, 490.2077,\n",
       "        536.9376, 575.3130, 634.0168, 675.9370, 713.4501, 763.4012])"
      ]
     },
     "execution_count": 172,
     "metadata": {},
     "output_type": "execute_result"
    }
   ],
   "source": [
    "ex_preds[:,i]"
   ]
  },
  {
   "cell_type": "code",
   "execution_count": 173,
   "metadata": {
    "hidden": true
   },
   "outputs": [
    {
     "data": {
      "text/plain": [
       "tensor([10, 11, 12, 13, 14, 15, 16, 17, 18, 19, 20, 21, 22, 23, 24, 25, 26, 27,\n",
       "        28, 29])"
      ]
     },
     "execution_count": 173,
     "metadata": {},
     "output_type": "execute_result"
    }
   ],
   "source": [
    "out_time[:,i]"
   ]
  },
  {
   "cell_type": "markdown",
   "metadata": {},
   "source": [
    "## function"
   ]
  },
  {
   "cell_type": "code",
   "execution_count": 175,
   "metadata": {},
   "outputs": [],
   "source": [
    "def plot_multi_pred_lines(out_time, preds, targets, hs = [0], example_idx=0, channel_idx=0):\n",
    "    '''hs are a list of indices all of which must be less than h of the model'''\n",
    "    # select batch_example and channel, detach preds if necessary\n",
    "    ex_preds   = preds[example_idx,channel_idx].detach()\n",
    "    ex_targets = targets[example_idx,channel_idx]\n",
    "    \n",
    "    # plot prediction lines\n",
    "    for i in hs:\n",
    "        plt.plot(out_time[:,i],ex_preds[:,i])\n",
    "\n",
    "    # plot target line\n",
    "    plt.plot(out_time,ex_targets,c='k')\n",
    "    # create legend\n",
    "    leg = [f'{dist}th pred' for dist in hs]\n",
    "    leg.append('targets')\n",
    "    plt.legend(leg)\n",
    "    return"
   ]
  },
  {
   "cell_type": "code",
   "execution_count": 180,
   "metadata": {},
   "outputs": [
    {
     "data": {
      "image/png": "[encoded data removed]",
      "text/plain": [
       "<Figure size 432x288 with 1 Axes>"
      ]
     },
     "metadata": {
      "needs_background": "light"
     },
     "output_type": "display_data"
    }
   ],
   "source": [
    "preds_jittered = preds + torch.rand(preds.shape) * preds.mean()/5\n",
    "plot_multi_pred_lines(out_time,preds_jittered,targets,hs=[0,5,9])"
   ]
  }
 ],
 "metadata": {
  "kernelspec": {
   "display_name": "Python 3",
   "language": "python",
   "name": "python3"
  },
  "language_info": {
   "codemirror_mode": {
    "name": "ipython",
    "version": 3
   },
   "file_extension": ".py",
   "mimetype": "text/x-python",
   "name": "python",
   "nbconvert_exporter": "python",
   "pygments_lexer": "ipython3",
   "version": "3.7.3"
  }
 },
 "nbformat": 4,
 "nbformat_minor": 2
}
