{
 "cells": [
  {
   "cell_type": "code",
   "execution_count": 54,
   "metadata": {},
   "outputs": [],
   "source": [
    "%load_ext autoreload\n",
    "%autoreload 2\n",
    "%matplotlib inline"
   ]
  },
  {
   "cell_type": "code",
   "execution_count": 78,
   "metadata": {},
   "outputs": [],
   "source": [
    "import matplotlib.pyplot as plt\n",
    "from stacked_data import *"
   ]
  },
  {
   "cell_type": "markdown",
   "metadata": {},
   "source": [
    "While staggering the start point may be a good idea, I won't implement it inside the dataset object...\n",
    "\n",
    "Also only going to create the stacked dataset (as encode/decode is not particularly relevant for me)"
   ]
  },
  {
   "cell_type": "markdown",
   "metadata": {},
   "source": [
    "\n",
    "\n",
    "https://pytorch.org/docs/stable/data.html#loading-batched-and-non-batched-data\n",
    "\n",
    "https://stanford.edu/~shervine/blog/pytorch-how-to-generate-data-parallel\n",
    "\n",
    "he has a more sustainable solution that doesn't require you to have the full dataset in memory.  The way I would use this would be to make a folder called `data` and it would contain a csv for each sample series and then a metadata csv to hold onto the different parameters used to make each series (they could also be npy files)"
   ]
  },
  {
   "cell_type": "code",
   "execution_count": 85,
   "metadata": {},
   "outputs": [],
   "source": [
    "import torch\n",
    "from torch.utils import data\n",
    "\n",
    "class Dataset(data.Dataset):\n",
    "    '''Characterizes a dataset for PyTorch'''\n",
    "    def __init__(self, data):\n",
    "        'Initialization'\n",
    "        self.data = data\n",
    "        \n",
    "    def __len__(self):\n",
    "        'Denotes the total number of samples'\n",
    "        return self.data.x.shape[0]\n",
    "\n",
    "    def __getitem__(self, index):\n",
    "        'Generates one sample of data, these can then be concatenated by dataloader instance'\n",
    "\n",
    "        # Load data and get label\n",
    "        X = self.data.x[index]\n",
    "        y = self.data.y[index]\n",
    "\n",
    "        return X,y"
   ]
  },
  {
   "cell_type": "code",
   "execution_count": 91,
   "metadata": {},
   "outputs": [
    {
     "data": {
      "text/plain": [
       "((100000, 1001), (100000,), torch.Size([100000, 497, 2]))"
      ]
     },
     "execution_count": 91,
     "metadata": {},
     "output_type": "execute_result"
    }
   ],
   "source": [
    "from load_sines import *\n",
    "\n",
    "sin_data = stacked_univariant_data(sines, input_len=2,output_len=4,tau_offset=3)\n",
    "\n",
    "sines.shape, freqs.shape, sin_data.x.shape"
   ]
  },
  {
   "cell_type": "code",
   "execution_count": 92,
   "metadata": {
    "scrolled": true
   },
   "outputs": [],
   "source": [
    "training_set = Dataset(sin_data)\n",
    "\n",
    "params = {'batch_size': 20102,\n",
    "          'shuffle': True,\n",
    "          'drop_last': False,\n",
    "          'num_workers': 11}\n",
    "\n",
    "training_generator = data.DataLoader(training_set, **params)\n"
   ]
  },
  {
   "cell_type": "code",
   "execution_count": 93,
   "metadata": {},
   "outputs": [
    {
     "name": "stdout",
     "output_type": "stream",
     "text": [
      "torch.Size([20102, 497, 2]) torch.Size([20102, 497, 4])\n",
      "torch.Size([20102, 497, 2]) torch.Size([20102, 497, 4])\n",
      "torch.Size([20102, 497, 2]) torch.Size([20102, 497, 4])\n",
      "torch.Size([20102, 497, 2]) torch.Size([20102, 497, 4])\n",
      "torch.Size([19592, 497, 2]) torch.Size([19592, 497, 4])\n"
     ]
    }
   ],
   "source": [
    "for X,y in training_generator:\n",
    "    print(X.shape, y.shape)"
   ]
  },
  {
   "cell_type": "code",
   "execution_count": null,
   "metadata": {},
   "outputs": [],
   "source": []
  }
 ],
 "metadata": {
  "kernelspec": {
   "display_name": "Python 3",
   "language": "python",
   "name": "python3"
  },
  "language_info": {
   "codemirror_mode": {
    "name": "ipython",
    "version": 3
   },
   "file_extension": ".py",
   "mimetype": "text/x-python",
   "name": "python",
   "nbconvert_exporter": "python",
   "pygments_lexer": "ipython3",
   "version": "3.7.3"
  }
 },
 "nbformat": 4,
 "nbformat_minor": 2
}
