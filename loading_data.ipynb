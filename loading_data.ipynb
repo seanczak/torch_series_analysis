{
 "cells": [
  {
   "cell_type": "code",
   "execution_count": 27,
   "metadata": {},
   "outputs": [
    {
     "name": "stdout",
     "output_type": "stream",
     "text": [
      "The autoreload extension is already loaded. To reload it, use:\n",
      "  %reload_ext autoreload\n"
     ]
    }
   ],
   "source": [
    "%load_ext autoreload\n",
    "%autoreload 2\n",
    "%matplotlib inline"
   ]
  },
  {
   "cell_type": "code",
   "execution_count": 28,
   "metadata": {},
   "outputs": [],
   "source": [
    "import matplotlib.pyplot as plt\n",
    "from data_grouping import *\n",
    "import torch\n",
    "import numpy as np"
   ]
  },
  {
   "cell_type": "markdown",
   "metadata": {},
   "source": [
    "While staggering the start point may be a good idea, I won't implement it inside the dataset object...\n",
    "\n",
    "Also only going to create the stacked dataset (as encode/decode is not particularly relevant for me)"
   ]
  },
  {
   "cell_type": "markdown",
   "metadata": {},
   "source": [
    "\n",
    "\n",
    "https://pytorch.org/docs/stable/data.html#loading-batched-and-non-batched-data\n",
    "\n",
    "https://stanford.edu/~shervine/blog/pytorch-how-to-generate-data-parallel\n",
    "\n",
    "he has a more sustainable solution that doesn't require you to have the full dataset in memory.  The way I would use this would be to make a folder called `data` and it would contain a csv for each sample series and then a metadata csv to hold onto the different parameters used to make each series (they could also be npy files)"
   ]
  },
  {
   "cell_type": "code",
   "execution_count": 3,
   "metadata": {},
   "outputs": [],
   "source": [
    "import torch\n",
    "from torch.utils import data\n",
    "\n",
    "class Dataset(data.Dataset):\n",
    "    '''Characterizes a dataset for PyTorch'''\n",
    "    def __init__(self, data):\n",
    "        'Initialization'\n",
    "        self.data = data\n",
    "        \n",
    "    def __len__(self):\n",
    "        'Denotes the total number of samples'\n",
    "        return self.data.x.shape[0]\n",
    "\n",
    "    def __getitem__(self, index):\n",
    "        'Generates one sample of data, these can then be concatenated by dataloader instance'\n",
    "\n",
    "        # Load data and get label\n",
    "        X = self.data.x[index]\n",
    "        y = self.data.y[index]\n",
    "\n",
    "        return X,y"
   ]
  },
  {
   "cell_type": "markdown",
   "metadata": {},
   "source": [
    "train split https://stackoverflow.com/questions/50544730/how-do-i-split-a-custom-dataset-into-training-and-test-datasets/50544887#50544887\n",
    "\n",
    "https://discuss.pytorch.org/t/how-to-split-dataset-into-test-and-validation-sets/33987/2\n",
    "\n",
    "\n",
    "transforms https://stackoverflow.com/questions/50002543/what-are-transforms-in-pytorch-used-for\n",
    "\n",
    "https://pytorch.org/tutorials/beginner/data_loading_tutorial.html"
   ]
  },
  {
   "cell_type": "code",
   "execution_count": null,
   "metadata": {},
   "outputs": [],
   "source": []
  },
  {
   "cell_type": "code",
   "execution_count": null,
   "metadata": {},
   "outputs": [],
   "source": []
  },
  {
   "cell_type": "code",
   "execution_count": 33,
   "metadata": {},
   "outputs": [
    {
     "ename": "TypeError",
     "evalue": "__init__() takes from 2 to 6 positional arguments but 7 were given",
     "output_type": "error",
     "traceback": [
      "\u001b[0;31m---------------------------------------------------------------------------\u001b[0m",
      "\u001b[0;31mTypeError\u001b[0m                                 Traceback (most recent call last)",
      "\u001b[0;32m<ipython-input-33-8121b6221d2c>\u001b[0m in \u001b[0;36m<module>\u001b[0;34m\u001b[0m\n\u001b[1;32m      1\u001b[0m \u001b[0;32mfrom\u001b[0m \u001b[0mload_sines\u001b[0m \u001b[0;32mimport\u001b[0m \u001b[0;34m*\u001b[0m\u001b[0;34m\u001b[0m\u001b[0;34m\u001b[0m\u001b[0m\n\u001b[1;32m      2\u001b[0m \u001b[0;34m\u001b[0m\u001b[0m\n\u001b[0;32m----> 3\u001b[0;31m \u001b[0msin_data\u001b[0m \u001b[0;34m=\u001b[0m \u001b[0mdata_grouping\u001b[0m\u001b[0;34m(\u001b[0m\u001b[0msines\u001b[0m\u001b[0;34m,\u001b[0m \u001b[0minput_len\u001b[0m\u001b[0;34m=\u001b[0m\u001b[0;36m2\u001b[0m\u001b[0;34m,\u001b[0m\u001b[0moutput_len\u001b[0m\u001b[0;34m=\u001b[0m\u001b[0;36m4\u001b[0m\u001b[0;34m,\u001b[0m\u001b[0mtau_offset\u001b[0m\u001b[0;34m=\u001b[0m\u001b[0;36m3\u001b[0m\u001b[0;34m,\u001b[0m\u001b[0minputs_overlap\u001b[0m\u001b[0;34m=\u001b[0m\u001b[0;32mFalse\u001b[0m\u001b[0;34m)\u001b[0m\u001b[0;34m\u001b[0m\u001b[0;34m\u001b[0m\u001b[0m\n\u001b[0m\u001b[1;32m      4\u001b[0m \u001b[0;34m\u001b[0m\u001b[0m\n\u001b[1;32m      5\u001b[0m \u001b[0msines\u001b[0m\u001b[0;34m.\u001b[0m\u001b[0mshape\u001b[0m\u001b[0;34m,\u001b[0m \u001b[0mfreqs\u001b[0m\u001b[0;34m.\u001b[0m\u001b[0mshape\u001b[0m\u001b[0;34m,\u001b[0m \u001b[0msin_data\u001b[0m\u001b[0;34m.\u001b[0m\u001b[0mx\u001b[0m\u001b[0;34m.\u001b[0m\u001b[0mshape\u001b[0m\u001b[0;34m\u001b[0m\u001b[0;34m\u001b[0m\u001b[0m\n",
      "\u001b[0;32m~/home_directories/torch_series_analysis/data_grouping.py\u001b[0m in \u001b[0;36m__init__\u001b[0;34m(self, data, input_len, output_len, tau_offset, inputs_overlap, multivariant, validation_percent, test_percent, random_split, standarize)\u001b[0m\n\u001b[1;32m    173\u001b[0m             \u001b[0mreshaped_data\u001b[0m \u001b[0;34m=\u001b[0m \u001b[0mmultivariate_data\u001b[0m\u001b[0;34m(\u001b[0m\u001b[0mself\u001b[0m\u001b[0;34m,\u001b[0m \u001b[0mdata\u001b[0m\u001b[0;34m,\u001b[0m \u001b[0minput_len\u001b[0m\u001b[0;34m,\u001b[0m \u001b[0moutput_len\u001b[0m\u001b[0;34m,\u001b[0m \u001b[0mtau_offset\u001b[0m\u001b[0;34m,\u001b[0m \u001b[0minputs_overlap\u001b[0m\u001b[0;34m)\u001b[0m\u001b[0;34m\u001b[0m\u001b[0;34m\u001b[0m\u001b[0m\n\u001b[1;32m    174\u001b[0m         \u001b[0;32melse\u001b[0m\u001b[0;34m:\u001b[0m\u001b[0;34m\u001b[0m\u001b[0;34m\u001b[0m\u001b[0m\n\u001b[0;32m--> 175\u001b[0;31m             \u001b[0mreshaped_data\u001b[0m \u001b[0;34m=\u001b[0m \u001b[0munivariate_data\u001b[0m\u001b[0;34m(\u001b[0m\u001b[0mself\u001b[0m\u001b[0;34m,\u001b[0m \u001b[0mdata\u001b[0m\u001b[0;34m,\u001b[0m \u001b[0minput_len\u001b[0m\u001b[0;34m,\u001b[0m \u001b[0moutput_len\u001b[0m\u001b[0;34m,\u001b[0m \u001b[0mtau_offset\u001b[0m\u001b[0;34m,\u001b[0m \u001b[0minputs_overlap\u001b[0m\u001b[0;34m)\u001b[0m\u001b[0;34m\u001b[0m\u001b[0;34m\u001b[0m\u001b[0m\n\u001b[0m\u001b[1;32m    176\u001b[0m \u001b[0;34m\u001b[0m\u001b[0m\n\u001b[1;32m    177\u001b[0m         \u001b[0;31m# # split data by example into specified splitting percentages\u001b[0m\u001b[0;34m\u001b[0m\u001b[0;34m\u001b[0m\u001b[0;34m\u001b[0m\u001b[0m\n",
      "\u001b[0;31mTypeError\u001b[0m: __init__() takes from 2 to 6 positional arguments but 7 were given"
     ]
    }
   ],
   "source": [
    "from load_sines import *\n",
    "\n",
    "sin_data = data_grouping(sines, input_len=2,output_len=4,tau_offset=3,inputs_overlap=False)\n",
    "\n",
    "sines.shape, freqs.shape, sin_data.x.shape"
   ]
  },
  {
   "cell_type": "code",
   "execution_count": 26,
   "metadata": {},
   "outputs": [
    {
     "name": "stdout",
     "output_type": "stream",
     "text": [
      "99984.6\n"
     ]
    },
    {
     "data": {
      "text/plain": [
       "99984.6"
      ]
     },
     "execution_count": 26,
     "metadata": {},
     "output_type": "execute_result"
    }
   ],
   "source": [
    "n_samples = sines.shape[0]-15.4\n",
    "print(n_samples)\n",
    "n_train = int(n_samples * 0.8)\n",
    "n_test  = int(n_samples * 0.1)\n",
    "n_valid = n_samples - n_train - n_test\n",
    "n_train + n_valid + n_test"
   ]
  },
  {
   "cell_type": "code",
   "execution_count": 92,
   "metadata": {
    "scrolled": true
   },
   "outputs": [],
   "source": [
    "training_set = Dataset(sin_data)\n",
    "\n",
    "params = {'batch_size': 20102,\n",
    "          'shuffle': True,\n",
    "          'drop_last': False,\n",
    "          'num_workers': 11}\n",
    "\n",
    "training_generator = data.DataLoader(training_set, **params)\n"
   ]
  },
  {
   "cell_type": "code",
   "execution_count": 93,
   "metadata": {},
   "outputs": [
    {
     "name": "stdout",
     "output_type": "stream",
     "text": [
      "torch.Size([20102, 497, 2]) torch.Size([20102, 497, 4])\n",
      "torch.Size([20102, 497, 2]) torch.Size([20102, 497, 4])\n",
      "torch.Size([20102, 497, 2]) torch.Size([20102, 497, 4])\n",
      "torch.Size([20102, 497, 2]) torch.Size([20102, 497, 4])\n",
      "torch.Size([19592, 497, 2]) torch.Size([19592, 497, 4])\n"
     ]
    }
   ],
   "source": [
    "for X,y in training_generator:\n",
    "    print(X.shape, y.shape)"
   ]
  },
  {
   "cell_type": "code",
   "execution_count": null,
   "metadata": {},
   "outputs": [],
   "source": []
  },
  {
   "cell_type": "code",
   "execution_count": null,
   "metadata": {},
   "outputs": [],
   "source": []
  },
  {
   "cell_type": "markdown",
   "metadata": {},
   "source": [
    "Call this segmented or partitioned or isolated sequences... note that we no longer have to worry about overlapping.. in fact we want them to because it increases the amount of data the model sees (note that 1,2 would never have been seen before if input was 2 and we were stacking).. also we don't have to worry about staggering.  called segmented because the parent seq is segmented into many little ones\n",
    "\n",
    "also note that the first dimension is partially redundant if you don't care about keeping track of which parent seq each fragment comes from... if you want to get rid of it you can just say .reshape(-1,input_len) and similarly for the output. Why you'd want to keep it? Scoring. Why not? Training, you'd have to program with that extra dimension that means nothing (I suggest getting rid of it to train using the above and then putting it back with .reshape(batch_size,-1,output_len) at the end)"
   ]
  },
  {
   "cell_type": "code",
   "execution_count": 1,
   "metadata": {},
   "outputs": [],
   "source": [
    "def running_view(arr, window, axis=-1):\n",
    "    \"\"\"\n",
    "    return a running view of length 'window' over 'axis'\n",
    "    the returned array has an extra last dimension, which spans the window\n",
    "    \"\"\"\n",
    "    shape = list(arr.shape)\n",
    "    shape[axis] -= (window-1)\n",
    "    assert(shape[axis]>0)\n",
    "    return np.lib.index_tricks.as_strided(\n",
    "        arr,\n",
    "        shape + [window],\n",
    "        arr.strides + (arr.strides[axis],))"
   ]
  },
  {
   "cell_type": "code",
   "execution_count": 22,
   "metadata": {},
   "outputs": [
    {
     "data": {
      "text/plain": [
       "array([[ 0,  1,  2,  3,  4,  5,  6,  7,  8,  9],\n",
       "       [10, 11, 12, 13, 14, 15, 16, 17, 18, 19],\n",
       "       [20, 21, 22, 23, 24, 25, 26, 27, 28, 29],\n",
       "       [30, 31, 32, 33, 34, 35, 36, 37, 38, 39]])"
      ]
     },
     "execution_count": 22,
     "metadata": {},
     "output_type": "execute_result"
    }
   ],
   "source": [
    "x_t = np.arange(40).reshape(-1,10)\n",
    "x_t"
   ]
  },
  {
   "cell_type": "code",
   "execution_count": 24,
   "metadata": {},
   "outputs": [],
   "source": [
    "from segmented_data import *"
   ]
  },
  {
   "cell_type": "code",
   "execution_count": 35,
   "metadata": {},
   "outputs": [
    {
     "data": {
      "text/plain": [
       "tensor([[[ 0.,  1.,  2.],\n",
       "         [ 1.,  2.,  3.],\n",
       "         [ 2.,  3.,  4.],\n",
       "         [ 3.,  4.,  5.],\n",
       "         [ 4.,  5.,  6.],\n",
       "         [ 5.,  6.,  7.]],\n",
       "\n",
       "        [[10., 11., 12.],\n",
       "         [11., 12., 13.],\n",
       "         [12., 13., 14.],\n",
       "         [13., 14., 15.],\n",
       "         [14., 15., 16.],\n",
       "         [15., 16., 17.]],\n",
       "\n",
       "        [[20., 21., 22.],\n",
       "         [21., 22., 23.],\n",
       "         [22., 23., 24.],\n",
       "         [23., 24., 25.],\n",
       "         [24., 25., 26.],\n",
       "         [25., 26., 27.]],\n",
       "\n",
       "        [[30., 31., 32.],\n",
       "         [31., 32., 33.],\n",
       "         [32., 33., 34.],\n",
       "         [33., 34., 35.],\n",
       "         [34., 35., 36.],\n",
       "         [35., 36., 37.]]])"
      ]
     },
     "execution_count": 35,
     "metadata": {},
     "output_type": "execute_result"
    }
   ],
   "source": [
    "segmented_univariant_data(x_t,input_len=3,output_len=2).x.reshape(-1,3).reshape(4,-1,3)"
   ]
  },
  {
   "cell_type": "code",
   "execution_count": null,
   "metadata": {},
   "outputs": [],
   "source": []
  },
  {
   "cell_type": "code",
   "execution_count": 23,
   "metadata": {},
   "outputs": [
    {
     "data": {
      "text/plain": [
       "array([[[ 0,  1,  2],\n",
       "        [ 1,  2,  3],\n",
       "        [ 2,  3,  4],\n",
       "        [ 3,  4,  5],\n",
       "        [ 4,  5,  6],\n",
       "        [ 5,  6,  7],\n",
       "        [ 6,  7,  8],\n",
       "        [ 7,  8,  9]],\n",
       "\n",
       "       [[10, 11, 12],\n",
       "        [11, 12, 13],\n",
       "        [12, 13, 14],\n",
       "        [13, 14, 15],\n",
       "        [14, 15, 16],\n",
       "        [15, 16, 17],\n",
       "        [16, 17, 18],\n",
       "        [17, 18, 19]],\n",
       "\n",
       "       [[20, 21, 22],\n",
       "        [21, 22, 23],\n",
       "        [22, 23, 24],\n",
       "        [23, 24, 25],\n",
       "        [24, 25, 26],\n",
       "        [25, 26, 27],\n",
       "        [26, 27, 28],\n",
       "        [27, 28, 29]],\n",
       "\n",
       "       [[30, 31, 32],\n",
       "        [31, 32, 33],\n",
       "        [32, 33, 34],\n",
       "        [33, 34, 35],\n",
       "        [34, 35, 36],\n",
       "        [35, 36, 37],\n",
       "        [36, 37, 38],\n",
       "        [37, 38, 39]]])"
      ]
     },
     "execution_count": 23,
     "metadata": {},
     "output_type": "execute_result"
    }
   ],
   "source": [
    "running_view(x_t,3)"
   ]
  },
  {
   "cell_type": "code",
   "execution_count": null,
   "metadata": {},
   "outputs": [],
   "source": []
  }
 ],
 "metadata": {
  "kernelspec": {
   "display_name": "Python 3",
   "language": "python",
   "name": "python3"
  },
  "language_info": {
   "codemirror_mode": {
    "name": "ipython",
    "version": 3
   },
   "file_extension": ".py",
   "mimetype": "text/x-python",
   "name": "python",
   "nbconvert_exporter": "python",
   "pygments_lexer": "ipython3",
   "version": "3.7.3"
  }
 },
 "nbformat": 4,
 "nbformat_minor": 2
}
