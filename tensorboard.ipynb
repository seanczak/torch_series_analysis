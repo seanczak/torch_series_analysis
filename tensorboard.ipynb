{
 "cells": [
  {
   "cell_type": "code",
   "execution_count": 54,
   "metadata": {},
   "outputs": [],
   "source": [
    "%load_ext autoreload\n",
    "%autoreload 2\n",
    "%matplotlib inline\n"
   ]
  },
  {
   "cell_type": "code",
   "execution_count": 55,
   "metadata": {},
   "outputs": [],
   "source": [
    "import matplotlib.pyplot as plt\n"
   ]
  },
  {
   "cell_type": "code",
   "execution_count": 7,
   "metadata": {},
   "outputs": [
    {
     "ename": "AttributeError",
     "evalue": "module 'torch.utils.tensorboard' has no attribute 'monitor_flow'",
     "output_type": "error",
     "traceback": [
      "\u001b[0;31m---------------------------------------------------------------------------\u001b[0m",
      "\u001b[0;31mAttributeError\u001b[0m                            Traceback (most recent call last)",
      "\u001b[0;32m<ipython-input-7-b8c59c4e550d>\u001b[0m in \u001b[0;36m<module>\u001b[0;34m\u001b[0m\n\u001b[1;32m     20\u001b[0m model = tr.nn.Sequential(\n\u001b[1;32m     21\u001b[0m     \u001b[0mtr\u001b[0m\u001b[0;34m.\u001b[0m\u001b[0mnn\u001b[0m\u001b[0;34m.\u001b[0m\u001b[0mLinear\u001b[0m\u001b[0;34m(\u001b[0m \u001b[0min_features\u001b[0m\u001b[0;34m=\u001b[0m\u001b[0;36m3\u001b[0m\u001b[0;34m,\u001b[0m \u001b[0mout_features\u001b[0m\u001b[0;34m=\u001b[0m\u001b[0;36m5\u001b[0m\u001b[0;34m)\u001b[0m  \u001b[0;34m,\u001b[0m\u001b[0;34m\u001b[0m\u001b[0;34m\u001b[0m\u001b[0m\n\u001b[0;32m---> 22\u001b[0;31m     \u001b[0mmxtl\u001b[0m\u001b[0;34m.\u001b[0m\u001b[0mmonitor_flow\u001b[0m\u001b[0;34m(\u001b[0m \u001b[0mname\u001b[0m\u001b[0;34m=\u001b[0m\u001b[0;34m'linear_1'\u001b[0m\u001b[0;34m)\u001b[0m\u001b[0;34m,\u001b[0m\u001b[0;34m\u001b[0m\u001b[0;34m\u001b[0m\u001b[0m\n\u001b[0m\u001b[1;32m     23\u001b[0m     \u001b[0mtr\u001b[0m\u001b[0;34m.\u001b[0m\u001b[0mnn\u001b[0m\u001b[0;34m.\u001b[0m\u001b[0mLinear\u001b[0m\u001b[0;34m(\u001b[0m \u001b[0min_features\u001b[0m\u001b[0;34m=\u001b[0m\u001b[0;36m5\u001b[0m\u001b[0;34m,\u001b[0m \u001b[0mout_features\u001b[0m\u001b[0;34m=\u001b[0m\u001b[0;36m1\u001b[0m \u001b[0;34m)\u001b[0m  \u001b[0;34m,\u001b[0m\u001b[0;34m\u001b[0m\u001b[0;34m\u001b[0m\u001b[0m\n\u001b[1;32m     24\u001b[0m     \u001b[0mmxtl\u001b[0m\u001b[0;34m.\u001b[0m\u001b[0mTensorboard\u001b[0m\u001b[0;34m.\u001b[0m\u001b[0mmonitor_flow\u001b[0m\u001b[0;34m(\u001b[0m \u001b[0mname\u001b[0m\u001b[0;34m=\u001b[0m\u001b[0;34m'linear_2'\u001b[0m\u001b[0;34m)\u001b[0m\u001b[0;34m,\u001b[0m\u001b[0;34m\u001b[0m\u001b[0;34m\u001b[0m\u001b[0m\n",
      "\u001b[0;31mAttributeError\u001b[0m: module 'torch.utils.tensorboard' has no attribute 'monitor_flow'"
     ]
    }
   ],
   "source": [
    "import torch as tr\n",
    "import matplotlib.\n",
    "\n",
    "from collections import defaultdict\n",
    "\n",
    "import pandas as pd\n",
    "import torch as tr\n",
    "from torch.utils import tensorboard as mxtl\n",
    "import os\n",
    "\n",
    "# import tensorboard as \n",
    "\n",
    "# optional - set tensorboard logging dir, flush freq\n",
    "# Tensorboard.log_dir = <default>\n",
    "# Tensorboard.flush_secs = 30\n",
    "\n",
    "# set the logging patience from default 50 to 50\n",
    "mxtl.patience = 50\n",
    "\n",
    "# Insert a monitor module into the graph to log flow through it to tensorboard\n",
    "model = tr.nn.Sequential(\n",
    "    tr.nn.Linear( in_features=3, out_features=5)  ,\n",
    "    mxtl.Tensorboard.monitor_flow( name='linear_1'),\n",
    "    tr.nn.Linear( in_features=5, out_features=1 )  ,\n",
    "    mxtl.Tensorboard.monitor_flow( name='linear_2'),\n",
    ")\n",
    "\n",
    "#A monitor which instruments / inspects the inputs and outputs of the wrapped Module\n",
    "w = tr.tensor( np.ones(3), requires_grad=True, dtype=tr.float )\n",
    "w_monitor = mxtl.Tensorboard.monitor( name='weight_1', node=w )\n",
    "\n",
    "\n",
    "# Monitor all the parameters of model\n",
    "mxtl.Tensorboard.monitor_parameters( name='model', module=model )\n",
    "\n",
    "for _ in range( 1000 ):\n",
    "    X = tr.as_tensor( randn( 20, 3 ), dtype=tr.float )\n",
    "    # common branch\n",
    "    Z1 =  (X @ w).reshape( -1, 1)\n",
    "    Z2 = model( X )\n",
    "    # two split branches\n",
    "    Y1 = Z1 ** 2\n",
    "    Y2 =  Z2 ** 3\n",
    "    L =  Y1.sum() + Y2.sum()\n",
    "    L.backward()\n",
    "\n",
    "# stuff is logged to tensorboard. Also, examine logs as dataframe\n",
    "model[1].logs\n",
    "w_monitor.logs "
   ]
  },
  {
   "cell_type": "code",
   "execution_count": null,
   "metadata": {},
   "outputs": [],
   "source": [
    "\n"
   ]
  }
 ],
 "metadata": {
  "kernelspec": {
   "display_name": "Python 3",
   "language": "python",
   "name": "python3"
  },
  "language_info": {
   "codemirror_mode": {
    "name": "ipython",
    "version": 3
   },
   "file_extension": ".py",
   "mimetype": "text/x-python",
   "name": "python",
   "nbconvert_exporter": "python",
   "pygments_lexer": "ipython3",
   "version": "3.7.3"
  }
 },
 "nbformat": 4,
 "nbformat_minor": 2
}
